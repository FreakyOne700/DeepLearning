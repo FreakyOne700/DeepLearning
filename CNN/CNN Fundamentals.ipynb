{
 "cells": [
  {
   "cell_type": "code",
   "execution_count": 1,
   "metadata": {},
   "outputs": [],
   "source": [
    "import numpy as np "
   ]
  },
  {
   "cell_type": "code",
   "execution_count": 2,
   "metadata": {},
   "outputs": [],
   "source": [
    "def f_padd(I,p):\n",
    "    numRows = I.shape[0]\n",
    "    numCols = I.shape[1]\n",
    "    zeroRows = np.zeros((p,numCols))\n",
    "    I = np.vstack((zeroRows,I))\n",
    "    I = np.vstack((I,zeroRows))\n",
    "    zerocols = np.zeros((numRows+2*p,p))\n",
    "    I = np.hstack((zerocols,I))\n",
    "    I = np.hstack((I,zerocols))\n",
    "    return I"
   ]
  },
  {
   "cell_type": "code",
   "execution_count": 11,
   "metadata": {},
   "outputs": [],
   "source": [
    "def f_conv2d(I,K,p):\n",
    "    fSize = K.shape[0]\n",
    "    I2 = f_padd(I,p)\n",
    "    numRows = I2.shape[0]\n",
    "    numCols = I2.shape[1]\n",
    "    C = np.zeros((numRows-2*p,numCols-2*p))\n",
    "    for i in range(numRows-fSize+1):\n",
    "        for j in range(numCols-fSize+1):\n",
    "            A = I2[i:i+fSize,j:j+fSize]\n",
    "            C[i,j] = (A.flatten() * K.flatten()).sum()\n",
    "\n",
    "    return C"
   ]
  },
  {
   "cell_type": "code",
   "execution_count": 17,
   "metadata": {},
   "outputs": [],
   "source": [
    "def f_pool(C):\n",
    "    r = C.shape[0]\n",
    "    c = C.shape[1]\n",
    "    S = np.zeros( (int(r/2),int(c/2)) )\n",
    "    for i in range(0,r,2):\n",
    "        for j in range(0,c,2):\n",
    "            S[int(i/2),int(j/2)] = C[i:i+2,j:j+2].max()\n",
    "    return S"
   ]
  },
  {
   "cell_type": "code",
   "execution_count": 16,
   "metadata": {},
   "outputs": [],
   "source": [
    "def f_Relu(C):\n",
    "    C[C<0] = 0\n",
    "    return C"
   ]
  },
  {
   "cell_type": "code",
   "execution_count": 20,
   "metadata": {},
   "outputs": [
    {
     "data": {
      "text/plain": [
       "(16, 16)"
      ]
     },
     "execution_count": 20,
     "metadata": {},
     "output_type": "execute_result"
    }
   ],
   "source": [
    "I = np.random.randint(1,5,(32,32))\n",
    "K = np.ones((5,5))\n",
    "p = int(K.shape[0]/2)\n",
    "C = f_conv2d(I,K,p)\n",
    "C = f_Relu(C)\n",
    "C.shape\n",
    "C = f_pool(C)\n",
    "C.shape"
   ]
  },
  {
   "cell_type": "code",
   "execution_count": null,
   "metadata": {},
   "outputs": [],
   "source": []
  }
 ],
 "metadata": {
  "kernelspec": {
   "display_name": "Python 3",
   "language": "python",
   "name": "python3"
  },
  "language_info": {
   "codemirror_mode": {
    "name": "ipython",
    "version": 3
   },
   "file_extension": ".py",
   "mimetype": "text/x-python",
   "name": "python",
   "nbconvert_exporter": "python",
   "pygments_lexer": "ipython3",
   "version": "3.11.9"
  }
 },
 "nbformat": 4,
 "nbformat_minor": 2
}
